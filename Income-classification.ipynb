{
 "cells": [
  {
   "cell_type": "code",
   "execution_count": 305,
   "metadata": {
    "gradient": {
     "editing": false
    }
   },
   "outputs": [],
   "source": [
    "import pandas as pd\n",
    "from matplotlib import pyplot as plt\n",
    "import numpy as np\n",
    "import seaborn as sns\n",
    "%matplotlib inline\n",
    "from sklearn.model_selection import train_test_split\n",
    "from sklearn.metrics import confusion_matrix,classification_report\n",
    "from sklearn.preprocessing import MinMaxScaler"
   ]
  },
  {
   "cell_type": "code",
   "execution_count": 306,
   "metadata": {
    "gradient": {
     "editing": false
    }
   },
   "outputs": [
    {
     "data": {
      "text/plain": [
       "(32561, 15)"
      ]
     },
     "execution_count": 306,
     "metadata": {},
     "output_type": "execute_result"
    }
   ],
   "source": [
    "df = pd.read_csv('income_evaluation.csv')\n",
    "df.shape"
   ]
  },
  {
   "cell_type": "code",
   "execution_count": 307,
   "metadata": {
    "gradient": {}
   },
   "outputs": [
    {
     "data": {
      "text/plain": [
       "age                0\n",
       " workclass         0\n",
       " fnlwgt            0\n",
       " education         0\n",
       " education-num     0\n",
       " marital-status    0\n",
       " occupation        0\n",
       " relationship      0\n",
       " race              0\n",
       " sex               0\n",
       " capital-gain      0\n",
       " capital-loss      0\n",
       " hours-per-week    0\n",
       " native-country    0\n",
       " income            0\n",
       "dtype: int64"
      ]
     },
     "execution_count": 307,
     "metadata": {},
     "output_type": "execute_result"
    }
   ],
   "source": [
    "df.isna().sum()"
   ]
  },
  {
   "cell_type": "code",
   "execution_count": 308,
   "metadata": {
    "gradient": {}
   },
   "outputs": [
    {
     "data": {
      "text/plain": [
       "Index(['age', ' workclass', ' fnlwgt', ' education', ' education-num',\n",
       "       ' marital-status', ' occupation', ' relationship', ' race', ' sex',\n",
       "       ' capital-gain', ' capital-loss', ' hours-per-week', ' native-country',\n",
       "       ' income'],\n",
       "      dtype='object')"
      ]
     },
     "execution_count": 308,
     "metadata": {},
     "output_type": "execute_result"
    }
   ],
   "source": [
    "df.columns"
   ]
  },
  {
   "cell_type": "code",
   "execution_count": 309,
   "metadata": {
    "gradient": {}
   },
   "outputs": [
    {
     "data": {
      "text/html": [
       "<div>\n",
       "<style scoped>\n",
       "    .dataframe tbody tr th:only-of-type {\n",
       "        vertical-align: middle;\n",
       "    }\n",
       "\n",
       "    .dataframe tbody tr th {\n",
       "        vertical-align: top;\n",
       "    }\n",
       "\n",
       "    .dataframe thead th {\n",
       "        text-align: right;\n",
       "    }\n",
       "</style>\n",
       "<table border=\"1\" class=\"dataframe\">\n",
       "  <thead>\n",
       "    <tr style=\"text-align: right;\">\n",
       "      <th></th>\n",
       "      <th>age</th>\n",
       "      <th>workclass</th>\n",
       "      <th>fnlwgt</th>\n",
       "      <th>education</th>\n",
       "      <th>education-num</th>\n",
       "      <th>marital-status</th>\n",
       "      <th>occupation</th>\n",
       "      <th>relationship</th>\n",
       "      <th>race</th>\n",
       "      <th>sex</th>\n",
       "      <th>capital-gain</th>\n",
       "      <th>capital-loss</th>\n",
       "      <th>hours-per-week</th>\n",
       "      <th>native-country</th>\n",
       "      <th>income</th>\n",
       "    </tr>\n",
       "  </thead>\n",
       "  <tbody>\n",
       "    <tr>\n",
       "      <td>0</td>\n",
       "      <td>39</td>\n",
       "      <td>State-gov</td>\n",
       "      <td>77516</td>\n",
       "      <td>Bachelors</td>\n",
       "      <td>13</td>\n",
       "      <td>Never-married</td>\n",
       "      <td>Adm-clerical</td>\n",
       "      <td>Not-in-family</td>\n",
       "      <td>White</td>\n",
       "      <td>Male</td>\n",
       "      <td>2174</td>\n",
       "      <td>0</td>\n",
       "      <td>40</td>\n",
       "      <td>United-States</td>\n",
       "      <td>&lt;=50K</td>\n",
       "    </tr>\n",
       "    <tr>\n",
       "      <td>1</td>\n",
       "      <td>50</td>\n",
       "      <td>Self-emp-not-inc</td>\n",
       "      <td>83311</td>\n",
       "      <td>Bachelors</td>\n",
       "      <td>13</td>\n",
       "      <td>Married-civ-spouse</td>\n",
       "      <td>Exec-managerial</td>\n",
       "      <td>Husband</td>\n",
       "      <td>White</td>\n",
       "      <td>Male</td>\n",
       "      <td>0</td>\n",
       "      <td>0</td>\n",
       "      <td>13</td>\n",
       "      <td>United-States</td>\n",
       "      <td>&lt;=50K</td>\n",
       "    </tr>\n",
       "    <tr>\n",
       "      <td>2</td>\n",
       "      <td>38</td>\n",
       "      <td>Private</td>\n",
       "      <td>215646</td>\n",
       "      <td>HS-grad</td>\n",
       "      <td>9</td>\n",
       "      <td>Divorced</td>\n",
       "      <td>Handlers-cleaners</td>\n",
       "      <td>Not-in-family</td>\n",
       "      <td>White</td>\n",
       "      <td>Male</td>\n",
       "      <td>0</td>\n",
       "      <td>0</td>\n",
       "      <td>40</td>\n",
       "      <td>United-States</td>\n",
       "      <td>&lt;=50K</td>\n",
       "    </tr>\n",
       "    <tr>\n",
       "      <td>3</td>\n",
       "      <td>53</td>\n",
       "      <td>Private</td>\n",
       "      <td>234721</td>\n",
       "      <td>11th</td>\n",
       "      <td>7</td>\n",
       "      <td>Married-civ-spouse</td>\n",
       "      <td>Handlers-cleaners</td>\n",
       "      <td>Husband</td>\n",
       "      <td>Black</td>\n",
       "      <td>Male</td>\n",
       "      <td>0</td>\n",
       "      <td>0</td>\n",
       "      <td>40</td>\n",
       "      <td>United-States</td>\n",
       "      <td>&lt;=50K</td>\n",
       "    </tr>\n",
       "    <tr>\n",
       "      <td>4</td>\n",
       "      <td>28</td>\n",
       "      <td>Private</td>\n",
       "      <td>338409</td>\n",
       "      <td>Bachelors</td>\n",
       "      <td>13</td>\n",
       "      <td>Married-civ-spouse</td>\n",
       "      <td>Prof-specialty</td>\n",
       "      <td>Wife</td>\n",
       "      <td>Black</td>\n",
       "      <td>Female</td>\n",
       "      <td>0</td>\n",
       "      <td>0</td>\n",
       "      <td>40</td>\n",
       "      <td>Cuba</td>\n",
       "      <td>&lt;=50K</td>\n",
       "    </tr>\n",
       "  </tbody>\n",
       "</table>\n",
       "</div>"
      ],
      "text/plain": [
       "   age          workclass   fnlwgt   education   education-num  \\\n",
       "0   39          State-gov    77516   Bachelors              13   \n",
       "1   50   Self-emp-not-inc    83311   Bachelors              13   \n",
       "2   38            Private   215646     HS-grad               9   \n",
       "3   53            Private   234721        11th               7   \n",
       "4   28            Private   338409   Bachelors              13   \n",
       "\n",
       "        marital-status          occupation    relationship    race      sex  \\\n",
       "0        Never-married        Adm-clerical   Not-in-family   White     Male   \n",
       "1   Married-civ-spouse     Exec-managerial         Husband   White     Male   \n",
       "2             Divorced   Handlers-cleaners   Not-in-family   White     Male   \n",
       "3   Married-civ-spouse   Handlers-cleaners         Husband   Black     Male   \n",
       "4   Married-civ-spouse      Prof-specialty            Wife   Black   Female   \n",
       "\n",
       "    capital-gain   capital-loss   hours-per-week  native-country  income  \n",
       "0           2174              0               40   United-States   <=50K  \n",
       "1              0              0               13   United-States   <=50K  \n",
       "2              0              0               40   United-States   <=50K  \n",
       "3              0              0               40   United-States   <=50K  \n",
       "4              0              0               40            Cuba   <=50K  "
      ]
     },
     "execution_count": 309,
     "metadata": {},
     "output_type": "execute_result"
    }
   ],
   "source": [
    "df.head()"
   ]
  },
  {
   "cell_type": "code",
   "execution_count": 310,
   "metadata": {
    "gradient": {}
   },
   "outputs": [
    {
     "data": {
      "text/plain": [
       "age                 int64\n",
       " workclass         object\n",
       " fnlwgt             int64\n",
       " education         object\n",
       " education-num      int64\n",
       " marital-status    object\n",
       " occupation        object\n",
       " relationship      object\n",
       " race              object\n",
       " sex               object\n",
       " capital-gain       int64\n",
       " capital-loss       int64\n",
       " hours-per-week     int64\n",
       " native-country    object\n",
       " income            object\n",
       "dtype: object"
      ]
     },
     "execution_count": 310,
     "metadata": {},
     "output_type": "execute_result"
    }
   ],
   "source": [
    "df.dtypes"
   ]
  },
  {
   "cell_type": "code",
   "execution_count": 311,
   "metadata": {
    "gradient": {}
   },
   "outputs": [
    {
     "data": {
      "image/png": "[encoded data removed]",
      "text/plain": [
       "<Figure size 432x288 with 1 Axes>"
      ]
     },
     "metadata": {
      "needs_background": "light"
     },
     "output_type": "display_data"
    }
   ],
   "source": [
    "df['age'].plot(kind='hist', rwidth=0.95)\n",
    "plt.show()"
   ]
  },
  {
   "cell_type": "markdown",
   "metadata": {},
   "source": [
    "### Working Class "
   ]
  },
  {
   "cell_type": "code",
   "execution_count": 312,
   "metadata": {
    "gradient": {}
   },
   "outputs": [
    {
     "data": {
      "text/plain": [
       " Private             22696\n",
       " Self-emp-not-inc     2541\n",
       " Local-gov            2093\n",
       " ?                    1836\n",
       " State-gov            1298\n",
       " Self-emp-inc         1116\n",
       " Federal-gov           960\n",
       " Without-pay            14\n",
       " Never-worked            7\n",
       "Name:  workclass, dtype: int64"
      ]
     },
     "execution_count": 312,
     "metadata": {},
     "output_type": "execute_result"
    }
   ],
   "source": [
    "df[' workclass'].value_counts()"
   ]
  },
  {
   "cell_type": "code",
   "execution_count": 313,
   "metadata": {
    "gradient": {}
   },
   "outputs": [],
   "source": [
    "df = df[df[' workclass'] != ' Without-pay']"
   ]
  },
  {
   "cell_type": "code",
   "execution_count": 314,
   "metadata": {
    "gradient": {}
   },
   "outputs": [],
   "source": [
    "df = df[df[' workclass'] != ' Never-worked']"
   ]
  },
  {
   "cell_type": "code",
   "execution_count": 315,
   "metadata": {
    "gradient": {}
   },
   "outputs": [
    {
     "data": {
      "text/plain": [
       " ?    1836\n",
       "Name:  occupation, dtype: int64"
      ]
     },
     "execution_count": 315,
     "metadata": {},
     "output_type": "execute_result"
    }
   ],
   "source": [
    "df[' occupation'][df[' workclass'] == ' ?'].value_counts()"
   ]
  },
  {
   "cell_type": "markdown",
   "metadata": {},
   "source": [
    "#### Those who do not have workclass also don't have an occupation "
   ]
  },
  {
   "cell_type": "code",
   "execution_count": 316,
   "metadata": {
    "gradient": {}
   },
   "outputs": [],
   "source": [
    "df = df[df[' workclass'] != ' ?']"
   ]
  },
  {
   "cell_type": "code",
   "execution_count": 317,
   "metadata": {
    "gradient": {}
   },
   "outputs": [
    {
     "data": {
      "image/png": "[encoded data removed]",
      "text/plain": [
       "<Figure size 432x288 with 1 Axes>"
      ]
     },
     "metadata": {
      "needs_background": "light"
     },
     "output_type": "display_data"
    }
   ],
   "source": [
    "df[' workclass'].value_counts().plot(kind='barh')\n",
    "plt.gca().invert_yaxis()\n",
    "plt.show()"
   ]
  },
  {
   "cell_type": "code",
   "execution_count": 318,
   "metadata": {
    "gradient": {}
   },
   "outputs": [
    {
     "data": {
      "text/plain": [
       "array([' State-gov', ' Self-emp-not-inc', ' Private', ' Federal-gov',\n",
       "       ' Local-gov', ' Self-emp-inc'], dtype=object)"
      ]
     },
     "execution_count": 318,
     "metadata": {},
     "output_type": "execute_result"
    }
   ],
   "source": [
    "df[' workclass'].unique()"
   ]
  },
  {
   "cell_type": "code",
   "execution_count": 319,
   "metadata": {
    "gradient": {}
   },
   "outputs": [
    {
     "data": {
      "text/plain": [
       "Index(['age', ' workclass', ' fnlwgt', ' education', ' education-num',\n",
       "       ' marital-status', ' occupation', ' relationship', ' race', ' sex',\n",
       "       ' capital-gain', ' capital-loss', ' hours-per-week', ' native-country',\n",
       "       ' income'],\n",
       "      dtype='object')"
      ]
     },
     "execution_count": 319,
     "metadata": {},
     "output_type": "execute_result"
    }
   ],
   "source": [
    "df.columns"
   ]
  },
  {
   "cell_type": "code",
   "execution_count": 320,
   "metadata": {
    "gradient": {}
   },
   "outputs": [
    {
     "data": {
      "text/plain": [
       " HS-grad         9959\n",
       " Some-college    6772\n",
       " Bachelors       5182\n",
       " Masters         1675\n",
       " Assoc-voc       1321\n",
       " 11th            1056\n",
       " Assoc-acdm      1019\n",
       " 10th             831\n",
       " 7th-8th          572\n",
       " Prof-school      558\n",
       " 9th              463\n",
       " Doctorate        398\n",
       " 12th             393\n",
       " 5th-6th          303\n",
       " 1st-4th          156\n",
       " Preschool         46\n",
       "Name:  education, dtype: int64"
      ]
     },
     "execution_count": 320,
     "metadata": {},
     "output_type": "execute_result"
    }
   ],
   "source": [
    "df[' education'].value_counts()"
   ]
  },
  {
   "cell_type": "code",
   "execution_count": null,
   "metadata": {
    "gradient": {}
   },
   "outputs": [],
   "source": []
  },
  {
   "cell_type": "markdown",
   "metadata": {},
   "source": [
    "### Checking income type of people who are educated at school level"
   ]
  },
  {
   "cell_type": "code",
   "execution_count": 321,
   "metadata": {
    "gradient": {}
   },
   "outputs": [
    {
     "data": {
      "text/plain": [
       " <=50K    437\n",
       " >50K      26\n",
       "Name:  income, dtype: int64"
      ]
     },
     "execution_count": 321,
     "metadata": {},
     "output_type": "execute_result"
    }
   ],
   "source": [
    "df[df[' education'] == ' 9th'][' income'].value_counts()"
   ]
  },
  {
   "cell_type": "code",
   "execution_count": 322,
   "metadata": {
    "gradient": {}
   },
   "outputs": [
    {
     "data": {
      "text/plain": [
       " <=50K    771\n",
       " >50K      60\n",
       "Name:  income, dtype: int64"
      ]
     },
     "execution_count": 322,
     "metadata": {},
     "output_type": "execute_result"
    }
   ],
   "source": [
    "df[df[' education'] == ' 10th'][' income'].value_counts()"
   ]
  },
  {
   "cell_type": "code",
   "execution_count": 323,
   "metadata": {
    "gradient": {}
   },
   "outputs": [
    {
     "data": {
      "text/plain": [
       " <=50K    996\n",
       " >50K      60\n",
       "Name:  income, dtype: int64"
      ]
     },
     "execution_count": 323,
     "metadata": {},
     "output_type": "execute_result"
    }
   ],
   "source": [
    "df[df[' education'] == ' 11th'][' income'].value_counts()"
   ]
  },
  {
   "cell_type": "code",
   "execution_count": 324,
   "metadata": {
    "gradient": {}
   },
   "outputs": [
    {
     "data": {
      "text/plain": [
       " <=50K    362\n",
       " >50K      31\n",
       "Name:  income, dtype: int64"
      ]
     },
     "execution_count": 324,
     "metadata": {},
     "output_type": "execute_result"
    }
   ],
   "source": [
    "df[df[' education'] == ' 12th'][' income'].value_counts()"
   ]
  },
  {
   "cell_type": "code",
   "execution_count": 325,
   "metadata": {
    "gradient": {}
   },
   "outputs": [
    {
     "data": {
      "text/plain": [
       " <=50K    46\n",
       "Name:  income, dtype: int64"
      ]
     },
     "execution_count": 325,
     "metadata": {},
     "output_type": "execute_result"
    }
   ],
   "source": [
    "df[df[' education'] == ' Preschool'][' income'].value_counts()"
   ]
  },
  {
   "cell_type": "markdown",
   "metadata": {},
   "source": [
    "## **Replacing**\n",
    "**Preschool,**\n",
    "**1st-4th,**\n",
    "**5th-6th,**\n",
    "**7th-8th and**\n",
    "**9th** \n",
    "## **with elementary**\n"
   ]
  },
  {
   "cell_type": "code",
   "execution_count": 327,
   "metadata": {
    "gradient": {}
   },
   "outputs": [],
   "source": [
    "elemen_cols = [' Preschool', ' 1st-4th', ' 5th-6th',' 7th-8th', ' 9th']"
   ]
  },
  {
   "cell_type": "code",
   "execution_count": 328,
   "metadata": {},
   "outputs": [
    {
     "data": {
      "text/plain": [
       " HS-grad         9959\n",
       " Some-college    6772\n",
       " Bachelors       5182\n",
       " Masters         1675\n",
       "Elementary       1540\n",
       " Assoc-voc       1321\n",
       " 11th            1056\n",
       " Assoc-acdm      1019\n",
       " 10th             831\n",
       " Prof-school      558\n",
       " Doctorate        398\n",
       " 12th             393\n",
       "Name:  education, dtype: int64"
      ]
     },
     "execution_count": 328,
     "metadata": {},
     "output_type": "execute_result"
    }
   ],
   "source": [
    "df[' education'].replace(elemen_cols,['Elementary' for i in range(5)], inplace=True)\n",
    "df[' education'].value_counts()"
   ]
  },
  {
   "cell_type": "markdown",
   "metadata": {},
   "source": [
    "## **Replacing**\n",
    "**10th, 11th and 12th**\n",
    "\n",
    "## **with High School**\n"
   ]
  },
  {
   "cell_type": "code",
   "execution_count": 329,
   "metadata": {},
   "outputs": [
    {
     "data": {
      "text/plain": [
       " HS-grad         9959\n",
       " Some-college    6772\n",
       " Bachelors       5182\n",
       "High_School      2280\n",
       " Masters         1675\n",
       "Elementary       1540\n",
       " Assoc-voc       1321\n",
       " Assoc-acdm      1019\n",
       " Prof-school      558\n",
       " Doctorate        398\n",
       "Name:  education, dtype: int64"
      ]
     },
     "execution_count": 329,
     "metadata": {},
     "output_type": "execute_result"
    }
   ],
   "source": [
    "high_school_cols = [' 10th', ' 11th', ' 12th']\n",
    "\n",
    "df[' education'].replace(high_school_cols,['High_School' for i in range(3)], inplace=True)\n",
    "df[' education'].value_counts()"
   ]
  },
  {
   "cell_type": "code",
   "execution_count": 330,
   "metadata": {},
   "outputs": [
    {
     "data": {
      "text/plain": [
       " Prof-specialty       4140\n",
       " Craft-repair         4098\n",
       " Exec-managerial      4066\n",
       " Adm-clerical         3767\n",
       " Sales                3650\n",
       " Other-service        3294\n",
       " Machine-op-inspct    2001\n",
       " Transport-moving     1596\n",
       " Handlers-cleaners    1369\n",
       " Farming-fishing       988\n",
       " Tech-support          928\n",
       " Protective-serv       649\n",
       " Priv-house-serv       149\n",
       " Armed-Forces            9\n",
       "Name:  occupation, dtype: int64"
      ]
     },
     "execution_count": 330,
     "metadata": {},
     "output_type": "execute_result"
    }
   ],
   "source": [
    "df[' occupation'].value_counts()"
   ]
  },
  {
   "cell_type": "code",
   "execution_count": 331,
   "metadata": {},
   "outputs": [
    {
     "data": {
      "text/plain": [
       "Index(['age', ' workclass', ' fnlwgt', ' education', ' education-num',\n",
       "       ' marital-status', ' occupation', ' relationship', ' race', ' sex',\n",
       "       ' capital-gain', ' capital-loss', ' hours-per-week', ' native-country',\n",
       "       ' income'],\n",
       "      dtype='object')"
      ]
     },
     "execution_count": 331,
     "metadata": {},
     "output_type": "execute_result"
    }
   ],
   "source": [
    "df.columns"
   ]
  },
  {
   "cell_type": "code",
   "execution_count": 332,
   "metadata": {
    "scrolled": false
   },
   "outputs": [
    {
     "data": {
      "image/png": "[encoded data removed]",
      "text/plain": [
       "<Figure size 720x720 with 1 Axes>"
      ]
     },
     "metadata": {
      "needs_background": "light"
     },
     "output_type": "display_data"
    },
    {
     "name": "stdout",
     "output_type": "stream",
     "text": [
      "\n"
     ]
    },
    {
     "data": {
      "image/png": "[encoded data removed]",
      "text/plain": [
       "<Figure size 720x720 with 1 Axes>"
      ]
     },
     "metadata": {
      "needs_background": "light"
     },
     "output_type": "display_data"
    },
    {
     "name": "stdout",
     "output_type": "stream",
     "text": [
      "\n"
     ]
    },
    {
     "data": {
      "image/png": "[encoded data removed]",
      "text/plain": [
       "<Figure size 720x720 with 1 Axes>"
      ]
     },
     "metadata": {
      "needs_background": "light"
     },
     "output_type": "display_data"
    },
    {
     "name": "stdout",
     "output_type": "stream",
     "text": [
      "\n"
     ]
    },
    {
     "data": {
      "image/png": "[encoded data removed]",
      "text/plain": [
       "<Figure size 720x720 with 1 Axes>"
      ]
     },
     "metadata": {
      "needs_background": "light"
     },
     "output_type": "display_data"
    },
    {
     "name": "stdout",
     "output_type": "stream",
     "text": [
      "\n"
     ]
    },
    {
     "data": {
      "image/png": "[encoded data removed]",
      "text/plain": [
       "<Figure size 720x720 with 1 Axes>"
      ]
     },
     "metadata": {
      "needs_background": "light"
     },
     "output_type": "display_data"
    },
    {
     "name": "stdout",
     "output_type": "stream",
     "text": [
      "\n"
     ]
    }
   ],
   "source": [
    "columns = [' marital-status', ' occupation', ' relationship', ' race', ' sex']\n",
    "\n",
    "for column in columns:\n",
    "    plt.figure(figsize=(10,10))\n",
    "    df[column].value_counts().plot(kind='barh')\n",
    "    plt.title(f'{column} Histogram')\n",
    "    plt.gca().invert_yaxis()\n",
    "    plt.show()\n",
    "    print()"
   ]
  },
  {
   "cell_type": "code",
   "execution_count": 335,
   "metadata": {},
   "outputs": [
    {
     "data": {
      "text/plain": [
       "(30704, 15)"
      ]
     },
     "execution_count": 335,
     "metadata": {},
     "output_type": "execute_result"
    }
   ],
   "source": [
    "df.shape"
   ]
  },
  {
   "cell_type": "code",
   "execution_count": 333,
   "metadata": {},
   "outputs": [
    {
     "data": {
      "text/plain": [
       "(28117, 15)"
      ]
     },
     "execution_count": 333,
     "metadata": {},
     "output_type": "execute_result"
    }
   ],
   "source": [
    "df[df[' capital-gain'] == 0].shape"
   ]
  },
  {
   "cell_type": "code",
   "execution_count": 334,
   "metadata": {
    "scrolled": true
   },
   "outputs": [
    {
     "data": {
      "text/plain": [
       "(29243, 15)"
      ]
     },
     "execution_count": 334,
     "metadata": {},
     "output_type": "execute_result"
    }
   ],
   "source": [
    "df[df[' capital-loss'] == 0].shape"
   ]
  },
  {
   "cell_type": "markdown",
   "metadata": {},
   "source": [
    "### dropping capital-gain and capital-loss columns"
   ]
  },
  {
   "cell_type": "code",
   "execution_count": 336,
   "metadata": {},
   "outputs": [],
   "source": [
    "df.drop([' capital-gain', ' capital-loss'],axis=1, inplace=True)"
   ]
  },
  {
   "cell_type": "code",
   "execution_count": 337,
   "metadata": {},
   "outputs": [
    {
     "data": {
      "text/plain": [
       "Index(['age', ' workclass', ' fnlwgt', ' education', ' education-num',\n",
       "       ' marital-status', ' occupation', ' relationship', ' race', ' sex',\n",
       "       ' hours-per-week', ' native-country', ' income'],\n",
       "      dtype='object')"
      ]
     },
     "execution_count": 337,
     "metadata": {},
     "output_type": "execute_result"
    }
   ],
   "source": [
    "df.columns"
   ]
  },
  {
   "cell_type": "code",
   "execution_count": 338,
   "metadata": {},
   "outputs": [
    {
     "data": {
      "image/png": "[encoded data removed]",
      "text/plain": [
       "<Figure size 432x288 with 1 Axes>"
      ]
     },
     "metadata": {
      "needs_background": "light"
     },
     "output_type": "display_data"
    }
   ],
   "source": [
    "(df[' fnlwgt']/100000).plot(kind='hist')\n",
    "plt.show()"
   ]
  },
  {
   "cell_type": "code",
   "execution_count": 339,
   "metadata": {},
   "outputs": [
    {
     "data": {
      "text/html": [
       "<div>\n",
       "<style scoped>\n",
       "    .dataframe tbody tr th:only-of-type {\n",
       "        vertical-align: middle;\n",
       "    }\n",
       "\n",
       "    .dataframe tbody tr th {\n",
       "        vertical-align: top;\n",
       "    }\n",
       "\n",
       "    .dataframe thead th {\n",
       "        text-align: right;\n",
       "    }\n",
       "</style>\n",
       "<table border=\"1\" class=\"dataframe\">\n",
       "  <thead>\n",
       "    <tr style=\"text-align: right;\">\n",
       "      <th></th>\n",
       "      <th>age</th>\n",
       "      <th>workclass</th>\n",
       "      <th>fnlwgt</th>\n",
       "      <th>education</th>\n",
       "      <th>education-num</th>\n",
       "      <th>marital-status</th>\n",
       "      <th>occupation</th>\n",
       "      <th>relationship</th>\n",
       "      <th>race</th>\n",
       "      <th>sex</th>\n",
       "      <th>hours-per-week</th>\n",
       "      <th>native-country</th>\n",
       "      <th>income</th>\n",
       "    </tr>\n",
       "  </thead>\n",
       "  <tbody>\n",
       "    <tr>\n",
       "      <td>9445</td>\n",
       "      <td>36</td>\n",
       "      <td>Private</td>\n",
       "      <td>370156</td>\n",
       "      <td>HS-grad</td>\n",
       "      <td>9</td>\n",
       "      <td>Divorced</td>\n",
       "      <td>Adm-clerical</td>\n",
       "      <td>Unmarried</td>\n",
       "      <td>White</td>\n",
       "      <td>Female</td>\n",
       "      <td>38</td>\n",
       "      <td>United-States</td>\n",
       "      <td>&lt;=50K</td>\n",
       "    </tr>\n",
       "    <tr>\n",
       "      <td>15668</td>\n",
       "      <td>62</td>\n",
       "      <td>Federal-gov</td>\n",
       "      <td>258124</td>\n",
       "      <td>Masters</td>\n",
       "      <td>14</td>\n",
       "      <td>Married-civ-spouse</td>\n",
       "      <td>Adm-clerical</td>\n",
       "      <td>Husband</td>\n",
       "      <td>White</td>\n",
       "      <td>Male</td>\n",
       "      <td>40</td>\n",
       "      <td>Italy</td>\n",
       "      <td>&gt;50K</td>\n",
       "    </tr>\n",
       "    <tr>\n",
       "      <td>6769</td>\n",
       "      <td>33</td>\n",
       "      <td>Local-gov</td>\n",
       "      <td>173005</td>\n",
       "      <td>Bachelors</td>\n",
       "      <td>13</td>\n",
       "      <td>Married-civ-spouse</td>\n",
       "      <td>Adm-clerical</td>\n",
       "      <td>Husband</td>\n",
       "      <td>White</td>\n",
       "      <td>Male</td>\n",
       "      <td>45</td>\n",
       "      <td>United-States</td>\n",
       "      <td>&gt;50K</td>\n",
       "    </tr>\n",
       "    <tr>\n",
       "      <td>20136</td>\n",
       "      <td>44</td>\n",
       "      <td>Private</td>\n",
       "      <td>377018</td>\n",
       "      <td>Assoc-voc</td>\n",
       "      <td>11</td>\n",
       "      <td>Married-civ-spouse</td>\n",
       "      <td>Craft-repair</td>\n",
       "      <td>Husband</td>\n",
       "      <td>White</td>\n",
       "      <td>Male</td>\n",
       "      <td>40</td>\n",
       "      <td>United-States</td>\n",
       "      <td>&gt;50K</td>\n",
       "    </tr>\n",
       "    <tr>\n",
       "      <td>7476</td>\n",
       "      <td>41</td>\n",
       "      <td>Private</td>\n",
       "      <td>147206</td>\n",
       "      <td>High_School</td>\n",
       "      <td>8</td>\n",
       "      <td>Married-civ-spouse</td>\n",
       "      <td>Handlers-cleaners</td>\n",
       "      <td>Husband</td>\n",
       "      <td>White</td>\n",
       "      <td>Male</td>\n",
       "      <td>40</td>\n",
       "      <td>United-States</td>\n",
       "      <td>&gt;50K</td>\n",
       "    </tr>\n",
       "  </tbody>\n",
       "</table>\n",
       "</div>"
      ],
      "text/plain": [
       "       age     workclass   fnlwgt    education   education-num  \\\n",
       "9445    36       Private   370156      HS-grad               9   \n",
       "15668   62   Federal-gov   258124      Masters              14   \n",
       "6769    33     Local-gov   173005    Bachelors              13   \n",
       "20136   44       Private   377018    Assoc-voc              11   \n",
       "7476    41       Private   147206  High_School               8   \n",
       "\n",
       "            marital-status          occupation  relationship    race      sex  \\\n",
       "9445              Divorced        Adm-clerical     Unmarried   White   Female   \n",
       "15668   Married-civ-spouse        Adm-clerical       Husband   White     Male   \n",
       "6769    Married-civ-spouse        Adm-clerical       Husband   White     Male   \n",
       "20136   Married-civ-spouse        Craft-repair       Husband   White     Male   \n",
       "7476    Married-civ-spouse   Handlers-cleaners       Husband   White     Male   \n",
       "\n",
       "        hours-per-week  native-country  income  \n",
       "9445                38   United-States   <=50K  \n",
       "15668               40           Italy    >50K  \n",
       "6769                45   United-States    >50K  \n",
       "20136               40   United-States    >50K  \n",
       "7476                40   United-States    >50K  "
      ]
     },
     "execution_count": 339,
     "metadata": {},
     "output_type": "execute_result"
    }
   ],
   "source": [
    "df.sample(5)"
   ]
  },
  {
   "cell_type": "markdown",
   "metadata": {},
   "source": [
    "## Scaling the columns "
   ]
  },
  {
   "cell_type": "code",
   "execution_count": 340,
   "metadata": {},
   "outputs": [
    {
     "data": {
      "text/html": [
       "<div>\n",
       "<style scoped>\n",
       "    .dataframe tbody tr th:only-of-type {\n",
       "        vertical-align: middle;\n",
       "    }\n",
       "\n",
       "    .dataframe tbody tr th {\n",
       "        vertical-align: top;\n",
       "    }\n",
       "\n",
       "    .dataframe thead th {\n",
       "        text-align: right;\n",
       "    }\n",
       "</style>\n",
       "<table border=\"1\" class=\"dataframe\">\n",
       "  <thead>\n",
       "    <tr style=\"text-align: right;\">\n",
       "      <th></th>\n",
       "      <th>age</th>\n",
       "      <th>fnlwgt</th>\n",
       "      <th>education-num</th>\n",
       "      <th>hours-per-week</th>\n",
       "    </tr>\n",
       "  </thead>\n",
       "  <tbody>\n",
       "    <tr>\n",
       "      <td>0</td>\n",
       "      <td>39</td>\n",
       "      <td>77516</td>\n",
       "      <td>13</td>\n",
       "      <td>40</td>\n",
       "    </tr>\n",
       "    <tr>\n",
       "      <td>1</td>\n",
       "      <td>50</td>\n",
       "      <td>83311</td>\n",
       "      <td>13</td>\n",
       "      <td>13</td>\n",
       "    </tr>\n",
       "    <tr>\n",
       "      <td>2</td>\n",
       "      <td>38</td>\n",
       "      <td>215646</td>\n",
       "      <td>9</td>\n",
       "      <td>40</td>\n",
       "    </tr>\n",
       "    <tr>\n",
       "      <td>3</td>\n",
       "      <td>53</td>\n",
       "      <td>234721</td>\n",
       "      <td>7</td>\n",
       "      <td>40</td>\n",
       "    </tr>\n",
       "    <tr>\n",
       "      <td>4</td>\n",
       "      <td>28</td>\n",
       "      <td>338409</td>\n",
       "      <td>13</td>\n",
       "      <td>40</td>\n",
       "    </tr>\n",
       "  </tbody>\n",
       "</table>\n",
       "</div>"
      ],
      "text/plain": [
       "   age   fnlwgt   education-num   hours-per-week\n",
       "0   39    77516              13               40\n",
       "1   50    83311              13               13\n",
       "2   38   215646               9               40\n",
       "3   53   234721               7               40\n",
       "4   28   338409              13               40"
      ]
     },
     "execution_count": 340,
     "metadata": {},
     "output_type": "execute_result"
    }
   ],
   "source": [
    "cols_to_scale = ['age', ' fnlwgt', ' education-num', ' hours-per-week']\n",
    "df[cols_to_scale].head()"
   ]
  },
  {
   "cell_type": "code",
   "execution_count": 341,
   "metadata": {},
   "outputs": [
    {
     "data": {
      "text/html": [
       "<div>\n",
       "<style scoped>\n",
       "    .dataframe tbody tr th:only-of-type {\n",
       "        vertical-align: middle;\n",
       "    }\n",
       "\n",
       "    .dataframe tbody tr th {\n",
       "        vertical-align: top;\n",
       "    }\n",
       "\n",
       "    .dataframe thead th {\n",
       "        text-align: right;\n",
       "    }\n",
       "</style>\n",
       "<table border=\"1\" class=\"dataframe\">\n",
       "  <thead>\n",
       "    <tr style=\"text-align: right;\">\n",
       "      <th></th>\n",
       "      <th>age</th>\n",
       "      <th>workclass</th>\n",
       "      <th>fnlwgt</th>\n",
       "      <th>education</th>\n",
       "      <th>education-num</th>\n",
       "      <th>marital-status</th>\n",
       "      <th>occupation</th>\n",
       "      <th>relationship</th>\n",
       "      <th>race</th>\n",
       "      <th>sex</th>\n",
       "      <th>hours-per-week</th>\n",
       "      <th>native-country</th>\n",
       "      <th>income</th>\n",
       "    </tr>\n",
       "  </thead>\n",
       "  <tbody>\n",
       "    <tr>\n",
       "      <td>0</td>\n",
       "      <td>0.301370</td>\n",
       "      <td>State-gov</td>\n",
       "      <td>0.043338</td>\n",
       "      <td>Bachelors</td>\n",
       "      <td>0.800000</td>\n",
       "      <td>Never-married</td>\n",
       "      <td>Adm-clerical</td>\n",
       "      <td>Not-in-family</td>\n",
       "      <td>White</td>\n",
       "      <td>Male</td>\n",
       "      <td>0.397959</td>\n",
       "      <td>United-States</td>\n",
       "      <td>&lt;=50K</td>\n",
       "    </tr>\n",
       "    <tr>\n",
       "      <td>1</td>\n",
       "      <td>0.452055</td>\n",
       "      <td>Self-emp-not-inc</td>\n",
       "      <td>0.047277</td>\n",
       "      <td>Bachelors</td>\n",
       "      <td>0.800000</td>\n",
       "      <td>Married-civ-spouse</td>\n",
       "      <td>Exec-managerial</td>\n",
       "      <td>Husband</td>\n",
       "      <td>White</td>\n",
       "      <td>Male</td>\n",
       "      <td>0.122449</td>\n",
       "      <td>United-States</td>\n",
       "      <td>&lt;=50K</td>\n",
       "    </tr>\n",
       "    <tr>\n",
       "      <td>2</td>\n",
       "      <td>0.287671</td>\n",
       "      <td>Private</td>\n",
       "      <td>0.137244</td>\n",
       "      <td>HS-grad</td>\n",
       "      <td>0.533333</td>\n",
       "      <td>Divorced</td>\n",
       "      <td>Handlers-cleaners</td>\n",
       "      <td>Not-in-family</td>\n",
       "      <td>White</td>\n",
       "      <td>Male</td>\n",
       "      <td>0.397959</td>\n",
       "      <td>United-States</td>\n",
       "      <td>&lt;=50K</td>\n",
       "    </tr>\n",
       "    <tr>\n",
       "      <td>3</td>\n",
       "      <td>0.493151</td>\n",
       "      <td>Private</td>\n",
       "      <td>0.150212</td>\n",
       "      <td>High_School</td>\n",
       "      <td>0.400000</td>\n",
       "      <td>Married-civ-spouse</td>\n",
       "      <td>Handlers-cleaners</td>\n",
       "      <td>Husband</td>\n",
       "      <td>Black</td>\n",
       "      <td>Male</td>\n",
       "      <td>0.397959</td>\n",
       "      <td>United-States</td>\n",
       "      <td>&lt;=50K</td>\n",
       "    </tr>\n",
       "    <tr>\n",
       "      <td>4</td>\n",
       "      <td>0.150685</td>\n",
       "      <td>Private</td>\n",
       "      <td>0.220703</td>\n",
       "      <td>Bachelors</td>\n",
       "      <td>0.800000</td>\n",
       "      <td>Married-civ-spouse</td>\n",
       "      <td>Prof-specialty</td>\n",
       "      <td>Wife</td>\n",
       "      <td>Black</td>\n",
       "      <td>Female</td>\n",
       "      <td>0.397959</td>\n",
       "      <td>Cuba</td>\n",
       "      <td>&lt;=50K</td>\n",
       "    </tr>\n",
       "  </tbody>\n",
       "</table>\n",
       "</div>"
      ],
      "text/plain": [
       "        age          workclass    fnlwgt    education   education-num  \\\n",
       "0  0.301370          State-gov  0.043338    Bachelors        0.800000   \n",
       "1  0.452055   Self-emp-not-inc  0.047277    Bachelors        0.800000   \n",
       "2  0.287671            Private  0.137244      HS-grad        0.533333   \n",
       "3  0.493151            Private  0.150212  High_School        0.400000   \n",
       "4  0.150685            Private  0.220703    Bachelors        0.800000   \n",
       "\n",
       "        marital-status          occupation    relationship    race      sex  \\\n",
       "0        Never-married        Adm-clerical   Not-in-family   White     Male   \n",
       "1   Married-civ-spouse     Exec-managerial         Husband   White     Male   \n",
       "2             Divorced   Handlers-cleaners   Not-in-family   White     Male   \n",
       "3   Married-civ-spouse   Handlers-cleaners         Husband   Black     Male   \n",
       "4   Married-civ-spouse      Prof-specialty            Wife   Black   Female   \n",
       "\n",
       "    hours-per-week  native-country  income  \n",
       "0         0.397959   United-States   <=50K  \n",
       "1         0.122449   United-States   <=50K  \n",
       "2         0.397959   United-States   <=50K  \n",
       "3         0.397959   United-States   <=50K  \n",
       "4         0.397959            Cuba   <=50K  "
      ]
     },
     "execution_count": 341,
     "metadata": {},
     "output_type": "execute_result"
    }
   ],
   "source": [
    "scale = MinMaxScaler()\n",
    "scale.fit(df[cols_to_scale])\n",
    "scalled = scale.fit_transform(df[cols_to_scale])\n",
    "df['age'] =  scalled[:,0]\n",
    "df[' fnlwgt'] = scalled[:,1]\n",
    "df[' education-num'] = scalled[:,2]\n",
    "df[' hours-per-week'] = scalled[:,3]\n",
    "\n",
    "df.head()"
   ]
  },
  {
   "cell_type": "code",
   "execution_count": 342,
   "metadata": {},
   "outputs": [
    {
     "data": {
      "image/png": "[encoded data removed]",
      "text/plain": [
       "<Figure size 432x288 with 1 Axes>"
      ]
     },
     "metadata": {
      "needs_background": "light"
     },
     "output_type": "display_data"
    }
   ],
   "source": [
    "df[' income'].value_counts().plot(kind='bar')\n",
    "plt.show()"
   ]
  },
  {
   "cell_type": "code",
   "execution_count": 345,
   "metadata": {},
   "outputs": [
    {
     "data": {
      "text/plain": [
       " <=50K    23054\n",
       " >50K      7650\n",
       "Name:  income, dtype: int64"
      ]
     },
     "execution_count": 345,
     "metadata": {},
     "output_type": "execute_result"
    }
   ],
   "source": [
    "df[' income'].value_counts()"
   ]
  },
  {
   "cell_type": "code",
   "execution_count": 346,
   "metadata": {},
   "outputs": [],
   "source": [
    "less_50k = df[df[' income'] == ' <=50K'].sample(7650)\n",
    "greater_50k = df[df[' income'] == ' >50K']"
   ]
  },
  {
   "cell_type": "code",
   "execution_count": 347,
   "metadata": {},
   "outputs": [
    {
     "data": {
      "text/plain": [
       " United-States                 27491\n",
       " Mexico                          610\n",
       " ?                               556\n",
       " Philippines                     187\n",
       " Germany                         128\n",
       " Puerto-Rico                     109\n",
       " Canada                          107\n",
       " El-Salvador                     100\n",
       " India                           100\n",
       " Cuba                             92\n",
       " England                          86\n",
       " Jamaica                          80\n",
       " South                            71\n",
       " China                            68\n",
       " Italy                            68\n",
       " Dominican-Republic               67\n",
       " Vietnam                          64\n",
       " Guatemala                        63\n",
       " Japan                            59\n",
       " Columbia                         56\n",
       " Poland                           56\n",
       " Haiti                            42\n",
       " Iran                             42\n",
       " Taiwan                           42\n",
       " Portugal                         34\n",
       " Nicaragua                        33\n",
       " Peru                             30\n",
       " Greece                           29\n",
       " Ecuador                          27\n",
       " France                           27\n",
       " Ireland                          24\n",
       " Hong                             19\n",
       " Trinadad&Tobago                  18\n",
       " Cambodia                         18\n",
       " Thailand                         17\n",
       " Laos                             17\n",
       " Yugoslavia                       16\n",
       " Outlying-US(Guam-USVI-etc)       14\n",
       " Hungary                          13\n",
       " Honduras                         12\n",
       " Scotland                         11\n",
       " Holand-Netherlands                1\n",
       "Name:  native-country, dtype: int64"
      ]
     },
     "execution_count": 347,
     "metadata": {},
     "output_type": "execute_result"
    }
   ],
   "source": [
    "df[' native-country'].value_counts()"
   ]
  },
  {
   "cell_type": "markdown",
   "metadata": {},
   "source": [
    "### Putting countries = others where number of people < 100 and blank values"
   ]
  },
  {
   "cell_type": "code",
   "execution_count": 348,
   "metadata": {},
   "outputs": [],
   "source": [
    "def get_country_count_less_than_100():\n",
    "    countries = []\n",
    "    country_count = df[' native-country'].value_counts() < 100\n",
    "    for key,value in country_count.items():\n",
    "        if value:\n",
    "            countries.append(key)\n",
    "    return countries\n"
   ]
  },
  {
   "cell_type": "code",
   "execution_count": 349,
   "metadata": {},
   "outputs": [],
   "source": [
    "countries = get_country_count_less_than_100()\n",
    "\n",
    "df[' native-country'].replace(countries, ['Others' for i in range(len(countries))],inplace=True)"
   ]
  },
  {
   "cell_type": "code",
   "execution_count": 350,
   "metadata": {},
   "outputs": [],
   "source": [
    "df[' native-country'].replace(' ?', 'Others', inplace=True)"
   ]
  },
  {
   "cell_type": "code",
   "execution_count": 351,
   "metadata": {},
   "outputs": [
    {
     "data": {
      "text/plain": [
       " United-States    27491\n",
       "Others             1872\n",
       " Mexico             610\n",
       " Philippines        187\n",
       " Germany            128\n",
       " Puerto-Rico        109\n",
       " Canada             107\n",
       " El-Salvador        100\n",
       " India              100\n",
       "Name:  native-country, dtype: int64"
      ]
     },
     "execution_count": 351,
     "metadata": {},
     "output_type": "execute_result"
    }
   ],
   "source": [
    "df[' native-country'].value_counts()"
   ]
  },
  {
   "cell_type": "code",
   "execution_count": 352,
   "metadata": {},
   "outputs": [
    {
     "data": {
      "text/html": [
       "<div>\n",
       "<style scoped>\n",
       "    .dataframe tbody tr th:only-of-type {\n",
       "        vertical-align: middle;\n",
       "    }\n",
       "\n",
       "    .dataframe tbody tr th {\n",
       "        vertical-align: top;\n",
       "    }\n",
       "\n",
       "    .dataframe thead th {\n",
       "        text-align: right;\n",
       "    }\n",
       "</style>\n",
       "<table border=\"1\" class=\"dataframe\">\n",
       "  <thead>\n",
       "    <tr style=\"text-align: right;\">\n",
       "      <th></th>\n",
       "      <th>age</th>\n",
       "      <th>workclass</th>\n",
       "      <th>fnlwgt</th>\n",
       "      <th>education</th>\n",
       "      <th>education-num</th>\n",
       "      <th>marital-status</th>\n",
       "      <th>occupation</th>\n",
       "      <th>relationship</th>\n",
       "      <th>race</th>\n",
       "      <th>sex</th>\n",
       "      <th>hours-per-week</th>\n",
       "      <th>native-country</th>\n",
       "      <th>income</th>\n",
       "    </tr>\n",
       "  </thead>\n",
       "  <tbody>\n",
       "    <tr>\n",
       "      <td>0</td>\n",
       "      <td>0.301370</td>\n",
       "      <td>State-gov</td>\n",
       "      <td>0.043338</td>\n",
       "      <td>Bachelors</td>\n",
       "      <td>0.800000</td>\n",
       "      <td>Never-married</td>\n",
       "      <td>Adm-clerical</td>\n",
       "      <td>Not-in-family</td>\n",
       "      <td>White</td>\n",
       "      <td>Male</td>\n",
       "      <td>0.397959</td>\n",
       "      <td>United-States</td>\n",
       "      <td>&lt;=50K</td>\n",
       "    </tr>\n",
       "    <tr>\n",
       "      <td>1</td>\n",
       "      <td>0.452055</td>\n",
       "      <td>Self-emp-not-inc</td>\n",
       "      <td>0.047277</td>\n",
       "      <td>Bachelors</td>\n",
       "      <td>0.800000</td>\n",
       "      <td>Married-civ-spouse</td>\n",
       "      <td>Exec-managerial</td>\n",
       "      <td>Husband</td>\n",
       "      <td>White</td>\n",
       "      <td>Male</td>\n",
       "      <td>0.122449</td>\n",
       "      <td>United-States</td>\n",
       "      <td>&lt;=50K</td>\n",
       "    </tr>\n",
       "    <tr>\n",
       "      <td>2</td>\n",
       "      <td>0.287671</td>\n",
       "      <td>Private</td>\n",
       "      <td>0.137244</td>\n",
       "      <td>HS-grad</td>\n",
       "      <td>0.533333</td>\n",
       "      <td>Divorced</td>\n",
       "      <td>Handlers-cleaners</td>\n",
       "      <td>Not-in-family</td>\n",
       "      <td>White</td>\n",
       "      <td>Male</td>\n",
       "      <td>0.397959</td>\n",
       "      <td>United-States</td>\n",
       "      <td>&lt;=50K</td>\n",
       "    </tr>\n",
       "    <tr>\n",
       "      <td>3</td>\n",
       "      <td>0.493151</td>\n",
       "      <td>Private</td>\n",
       "      <td>0.150212</td>\n",
       "      <td>High_School</td>\n",
       "      <td>0.400000</td>\n",
       "      <td>Married-civ-spouse</td>\n",
       "      <td>Handlers-cleaners</td>\n",
       "      <td>Husband</td>\n",
       "      <td>Black</td>\n",
       "      <td>Male</td>\n",
       "      <td>0.397959</td>\n",
       "      <td>United-States</td>\n",
       "      <td>&lt;=50K</td>\n",
       "    </tr>\n",
       "    <tr>\n",
       "      <td>4</td>\n",
       "      <td>0.150685</td>\n",
       "      <td>Private</td>\n",
       "      <td>0.220703</td>\n",
       "      <td>Bachelors</td>\n",
       "      <td>0.800000</td>\n",
       "      <td>Married-civ-spouse</td>\n",
       "      <td>Prof-specialty</td>\n",
       "      <td>Wife</td>\n",
       "      <td>Black</td>\n",
       "      <td>Female</td>\n",
       "      <td>0.397959</td>\n",
       "      <td>Others</td>\n",
       "      <td>&lt;=50K</td>\n",
       "    </tr>\n",
       "  </tbody>\n",
       "</table>\n",
       "</div>"
      ],
      "text/plain": [
       "        age          workclass    fnlwgt    education   education-num  \\\n",
       "0  0.301370          State-gov  0.043338    Bachelors        0.800000   \n",
       "1  0.452055   Self-emp-not-inc  0.047277    Bachelors        0.800000   \n",
       "2  0.287671            Private  0.137244      HS-grad        0.533333   \n",
       "3  0.493151            Private  0.150212  High_School        0.400000   \n",
       "4  0.150685            Private  0.220703    Bachelors        0.800000   \n",
       "\n",
       "        marital-status          occupation    relationship    race      sex  \\\n",
       "0        Never-married        Adm-clerical   Not-in-family   White     Male   \n",
       "1   Married-civ-spouse     Exec-managerial         Husband   White     Male   \n",
       "2             Divorced   Handlers-cleaners   Not-in-family   White     Male   \n",
       "3   Married-civ-spouse   Handlers-cleaners         Husband   Black     Male   \n",
       "4   Married-civ-spouse      Prof-specialty            Wife   Black   Female   \n",
       "\n",
       "    hours-per-week  native-country  income  \n",
       "0         0.397959   United-States   <=50K  \n",
       "1         0.122449   United-States   <=50K  \n",
       "2         0.397959   United-States   <=50K  \n",
       "3         0.397959   United-States   <=50K  \n",
       "4         0.397959          Others   <=50K  "
      ]
     },
     "execution_count": 352,
     "metadata": {},
     "output_type": "execute_result"
    }
   ],
   "source": [
    "df.head()"
   ]
  },
  {
   "cell_type": "code",
   "execution_count": 353,
   "metadata": {},
   "outputs": [
    {
     "data": {
      "text/plain": [
       " Husband           12700\n",
       " Not-in-family      7865\n",
       " Own-child          4520\n",
       " Unmarried          3269\n",
       " Wife               1432\n",
       " Other-relative      918\n",
       "Name:  relationship, dtype: int64"
      ]
     },
     "execution_count": 353,
     "metadata": {},
     "output_type": "execute_result"
    }
   ],
   "source": [
    "df[' relationship'].value_counts()"
   ]
  },
  {
   "cell_type": "markdown",
   "metadata": {},
   "source": [
    "## Replacing Husband and Wife values with married"
   ]
  },
  {
   "cell_type": "code",
   "execution_count": 354,
   "metadata": {},
   "outputs": [],
   "source": [
    "df[' relationship'].replace([' Husband',' Wife'],['Married','Married'], inplace=True)"
   ]
  },
  {
   "cell_type": "code",
   "execution_count": 355,
   "metadata": {},
   "outputs": [
    {
     "data": {
      "text/plain": [
       "Married            14132\n",
       " Not-in-family      7865\n",
       " Own-child          4520\n",
       " Unmarried          3269\n",
       " Other-relative      918\n",
       "Name:  relationship, dtype: int64"
      ]
     },
     "execution_count": 355,
     "metadata": {},
     "output_type": "execute_result"
    }
   ],
   "source": [
    "df[' relationship'].value_counts()"
   ]
  },
  {
   "cell_type": "markdown",
   "metadata": {},
   "source": [
    "## Dropping marital-status because we have relationship status column"
   ]
  },
  {
   "cell_type": "code",
   "execution_count": 356,
   "metadata": {},
   "outputs": [
    {
     "data": {
      "text/html": [
       "<div>\n",
       "<style scoped>\n",
       "    .dataframe tbody tr th:only-of-type {\n",
       "        vertical-align: middle;\n",
       "    }\n",
       "\n",
       "    .dataframe tbody tr th {\n",
       "        vertical-align: top;\n",
       "    }\n",
       "\n",
       "    .dataframe thead th {\n",
       "        text-align: right;\n",
       "    }\n",
       "</style>\n",
       "<table border=\"1\" class=\"dataframe\">\n",
       "  <thead>\n",
       "    <tr style=\"text-align: right;\">\n",
       "      <th></th>\n",
       "      <th>age</th>\n",
       "      <th>workclass</th>\n",
       "      <th>fnlwgt</th>\n",
       "      <th>education</th>\n",
       "      <th>education-num</th>\n",
       "      <th>occupation</th>\n",
       "      <th>relationship</th>\n",
       "      <th>race</th>\n",
       "      <th>sex</th>\n",
       "      <th>hours-per-week</th>\n",
       "      <th>native-country</th>\n",
       "      <th>income</th>\n",
       "    </tr>\n",
       "  </thead>\n",
       "  <tbody>\n",
       "    <tr>\n",
       "      <td>26856</td>\n",
       "      <td>0.082192</td>\n",
       "      <td>Private</td>\n",
       "      <td>0.230629</td>\n",
       "      <td>High_School</td>\n",
       "      <td>0.400000</td>\n",
       "      <td>Craft-repair</td>\n",
       "      <td>Unmarried</td>\n",
       "      <td>White</td>\n",
       "      <td>Male</td>\n",
       "      <td>0.346939</td>\n",
       "      <td>United-States</td>\n",
       "      <td>&lt;=50K</td>\n",
       "    </tr>\n",
       "    <tr>\n",
       "      <td>15187</td>\n",
       "      <td>0.356164</td>\n",
       "      <td>Private</td>\n",
       "      <td>0.120622</td>\n",
       "      <td>Some-college</td>\n",
       "      <td>0.600000</td>\n",
       "      <td>Exec-managerial</td>\n",
       "      <td>Married</td>\n",
       "      <td>White</td>\n",
       "      <td>Male</td>\n",
       "      <td>0.551020</td>\n",
       "      <td>United-States</td>\n",
       "      <td>&gt;50K</td>\n",
       "    </tr>\n",
       "    <tr>\n",
       "      <td>31616</td>\n",
       "      <td>0.150685</td>\n",
       "      <td>Private</td>\n",
       "      <td>0.118039</td>\n",
       "      <td>HS-grad</td>\n",
       "      <td>0.533333</td>\n",
       "      <td>Other-service</td>\n",
       "      <td>Other-relative</td>\n",
       "      <td>Other</td>\n",
       "      <td>Male</td>\n",
       "      <td>0.479592</td>\n",
       "      <td>Mexico</td>\n",
       "      <td>&lt;=50K</td>\n",
       "    </tr>\n",
       "    <tr>\n",
       "      <td>29877</td>\n",
       "      <td>0.438356</td>\n",
       "      <td>Self-emp-not-inc</td>\n",
       "      <td>0.023608</td>\n",
       "      <td>HS-grad</td>\n",
       "      <td>0.533333</td>\n",
       "      <td>Exec-managerial</td>\n",
       "      <td>Married</td>\n",
       "      <td>White</td>\n",
       "      <td>Male</td>\n",
       "      <td>0.448980</td>\n",
       "      <td>United-States</td>\n",
       "      <td>&lt;=50K</td>\n",
       "    </tr>\n",
       "    <tr>\n",
       "      <td>17287</td>\n",
       "      <td>0.561644</td>\n",
       "      <td>Private</td>\n",
       "      <td>0.091248</td>\n",
       "      <td>HS-grad</td>\n",
       "      <td>0.533333</td>\n",
       "      <td>Transport-moving</td>\n",
       "      <td>Married</td>\n",
       "      <td>White</td>\n",
       "      <td>Male</td>\n",
       "      <td>0.397959</td>\n",
       "      <td>United-States</td>\n",
       "      <td>&gt;50K</td>\n",
       "    </tr>\n",
       "  </tbody>\n",
       "</table>\n",
       "</div>"
      ],
      "text/plain": [
       "            age          workclass    fnlwgt      education   education-num  \\\n",
       "26856  0.082192            Private  0.230629    High_School        0.400000   \n",
       "15187  0.356164            Private  0.120622   Some-college        0.600000   \n",
       "31616  0.150685            Private  0.118039        HS-grad        0.533333   \n",
       "29877  0.438356   Self-emp-not-inc  0.023608        HS-grad        0.533333   \n",
       "17287  0.561644            Private  0.091248        HS-grad        0.533333   \n",
       "\n",
       "              occupation     relationship    race    sex   hours-per-week  \\\n",
       "26856       Craft-repair        Unmarried   White   Male         0.346939   \n",
       "15187    Exec-managerial          Married   White   Male         0.551020   \n",
       "31616      Other-service   Other-relative   Other   Male         0.479592   \n",
       "29877    Exec-managerial          Married   White   Male         0.448980   \n",
       "17287   Transport-moving          Married   White   Male         0.397959   \n",
       "\n",
       "       native-country  income  \n",
       "26856   United-States   <=50K  \n",
       "15187   United-States    >50K  \n",
       "31616          Mexico   <=50K  \n",
       "29877   United-States   <=50K  \n",
       "17287   United-States    >50K  "
      ]
     },
     "execution_count": 356,
     "metadata": {},
     "output_type": "execute_result"
    }
   ],
   "source": [
    "df.drop(' marital-status',axis=1, inplace=True)\n",
    "df.sample(5)"
   ]
  },
  {
   "cell_type": "code",
   "execution_count": 357,
   "metadata": {},
   "outputs": [
    {
     "data": {
      "text/plain": [
       " White                 26289\n",
       " Black                  2908\n",
       " Asian-Pac-Islander      973\n",
       " Amer-Indian-Eskimo      286\n",
       " Other                   248\n",
       "Name:  race, dtype: int64"
      ]
     },
     "execution_count": 357,
     "metadata": {},
     "output_type": "execute_result"
    }
   ],
   "source": [
    "df[' race'].value_counts()"
   ]
  },
  {
   "cell_type": "markdown",
   "metadata": {},
   "source": [
    "## Dropping 'race' Column because we have native-country column"
   ]
  },
  {
   "cell_type": "code",
   "execution_count": 358,
   "metadata": {},
   "outputs": [
    {
     "data": {
      "text/html": [
       "<div>\n",
       "<style scoped>\n",
       "    .dataframe tbody tr th:only-of-type {\n",
       "        vertical-align: middle;\n",
       "    }\n",
       "\n",
       "    .dataframe tbody tr th {\n",
       "        vertical-align: top;\n",
       "    }\n",
       "\n",
       "    .dataframe thead th {\n",
       "        text-align: right;\n",
       "    }\n",
       "</style>\n",
       "<table border=\"1\" class=\"dataframe\">\n",
       "  <thead>\n",
       "    <tr style=\"text-align: right;\">\n",
       "      <th></th>\n",
       "      <th>age</th>\n",
       "      <th>workclass</th>\n",
       "      <th>fnlwgt</th>\n",
       "      <th>education</th>\n",
       "      <th>education-num</th>\n",
       "      <th>occupation</th>\n",
       "      <th>relationship</th>\n",
       "      <th>sex</th>\n",
       "      <th>hours-per-week</th>\n",
       "      <th>native-country</th>\n",
       "      <th>income</th>\n",
       "    </tr>\n",
       "  </thead>\n",
       "  <tbody>\n",
       "    <tr>\n",
       "      <td>16101</td>\n",
       "      <td>0.561644</td>\n",
       "      <td>Private</td>\n",
       "      <td>0.135353</td>\n",
       "      <td>HS-grad</td>\n",
       "      <td>0.533333</td>\n",
       "      <td>Handlers-cleaners</td>\n",
       "      <td>Not-in-family</td>\n",
       "      <td>Male</td>\n",
       "      <td>0.397959</td>\n",
       "      <td>United-States</td>\n",
       "      <td>&lt;=50K</td>\n",
       "    </tr>\n",
       "    <tr>\n",
       "      <td>18698</td>\n",
       "      <td>0.027397</td>\n",
       "      <td>Private</td>\n",
       "      <td>0.056761</td>\n",
       "      <td>HS-grad</td>\n",
       "      <td>0.533333</td>\n",
       "      <td>Farming-fishing</td>\n",
       "      <td>Not-in-family</td>\n",
       "      <td>Male</td>\n",
       "      <td>0.397959</td>\n",
       "      <td>United-States</td>\n",
       "      <td>&lt;=50K</td>\n",
       "    </tr>\n",
       "    <tr>\n",
       "      <td>21094</td>\n",
       "      <td>0.082192</td>\n",
       "      <td>Private</td>\n",
       "      <td>0.145367</td>\n",
       "      <td>High_School</td>\n",
       "      <td>0.466667</td>\n",
       "      <td>Machine-op-inspct</td>\n",
       "      <td>Own-child</td>\n",
       "      <td>Female</td>\n",
       "      <td>0.397959</td>\n",
       "      <td>United-States</td>\n",
       "      <td>&lt;=50K</td>\n",
       "    </tr>\n",
       "    <tr>\n",
       "      <td>11078</td>\n",
       "      <td>0.424658</td>\n",
       "      <td>Private</td>\n",
       "      <td>0.152118</td>\n",
       "      <td>Bachelors</td>\n",
       "      <td>0.800000</td>\n",
       "      <td>Exec-managerial</td>\n",
       "      <td>Married</td>\n",
       "      <td>Male</td>\n",
       "      <td>0.653061</td>\n",
       "      <td>United-States</td>\n",
       "      <td>&gt;50K</td>\n",
       "    </tr>\n",
       "    <tr>\n",
       "      <td>29919</td>\n",
       "      <td>0.082192</td>\n",
       "      <td>Private</td>\n",
       "      <td>0.249348</td>\n",
       "      <td>Some-college</td>\n",
       "      <td>0.600000</td>\n",
       "      <td>Adm-clerical</td>\n",
       "      <td>Married</td>\n",
       "      <td>Male</td>\n",
       "      <td>0.397959</td>\n",
       "      <td>United-States</td>\n",
       "      <td>&gt;50K</td>\n",
       "    </tr>\n",
       "  </tbody>\n",
       "</table>\n",
       "</div>"
      ],
      "text/plain": [
       "            age  workclass    fnlwgt      education   education-num  \\\n",
       "16101  0.561644    Private  0.135353        HS-grad        0.533333   \n",
       "18698  0.027397    Private  0.056761        HS-grad        0.533333   \n",
       "21094  0.082192    Private  0.145367    High_School        0.466667   \n",
       "11078  0.424658    Private  0.152118      Bachelors        0.800000   \n",
       "29919  0.082192    Private  0.249348   Some-college        0.600000   \n",
       "\n",
       "               occupation    relationship      sex   hours-per-week  \\\n",
       "16101   Handlers-cleaners   Not-in-family     Male         0.397959   \n",
       "18698     Farming-fishing   Not-in-family     Male         0.397959   \n",
       "21094   Machine-op-inspct       Own-child   Female         0.397959   \n",
       "11078     Exec-managerial         Married     Male         0.653061   \n",
       "29919        Adm-clerical         Married     Male         0.397959   \n",
       "\n",
       "       native-country  income  \n",
       "16101   United-States   <=50K  \n",
       "18698   United-States   <=50K  \n",
       "21094   United-States   <=50K  \n",
       "11078   United-States    >50K  \n",
       "29919   United-States    >50K  "
      ]
     },
     "execution_count": 358,
     "metadata": {},
     "output_type": "execute_result"
    }
   ],
   "source": [
    "df.drop(' race', axis=1, inplace=True)\n",
    "df.sample(5)"
   ]
  },
  {
   "cell_type": "code",
   "execution_count": 360,
   "metadata": {},
   "outputs": [
    {
     "data": {
      "text/plain": [
       " Private             22696\n",
       " Self-emp-not-inc     2541\n",
       " Local-gov            2093\n",
       " State-gov            1298\n",
       " Self-emp-inc         1116\n",
       " Federal-gov           960\n",
       "Name:  workclass, dtype: int64"
      ]
     },
     "execution_count": 360,
     "metadata": {},
     "output_type": "execute_result"
    }
   ],
   "source": [
    "df[' workclass'].value_counts()"
   ]
  },
  {
   "cell_type": "code",
   "execution_count": 361,
   "metadata": {},
   "outputs": [
    {
     "data": {
      "text/plain": [
       " HS-grad         9959\n",
       " Some-college    6772\n",
       " Bachelors       5182\n",
       "High_School      2280\n",
       " Masters         1675\n",
       "Elementary       1540\n",
       " Assoc-voc       1321\n",
       " Assoc-acdm      1019\n",
       " Prof-school      558\n",
       " Doctorate        398\n",
       "Name:  education, dtype: int64"
      ]
     },
     "execution_count": 361,
     "metadata": {},
     "output_type": "execute_result"
    }
   ],
   "source": [
    "df[' education'].value_counts()"
   ]
  },
  {
   "cell_type": "code",
   "execution_count": 362,
   "metadata": {},
   "outputs": [
    {
     "data": {
      "text/plain": [
       " Prof-specialty       4140\n",
       " Craft-repair         4098\n",
       " Exec-managerial      4066\n",
       " Adm-clerical         3767\n",
       " Sales                3650\n",
       " Other-service        3294\n",
       " Machine-op-inspct    2001\n",
       " Transport-moving     1596\n",
       " Handlers-cleaners    1369\n",
       " Farming-fishing       988\n",
       " Tech-support          928\n",
       " Protective-serv       649\n",
       " Priv-house-serv       149\n",
       " Armed-Forces            9\n",
       "Name:  occupation, dtype: int64"
      ]
     },
     "execution_count": 362,
     "metadata": {},
     "output_type": "execute_result"
    }
   ],
   "source": [
    "df[' occupation'].value_counts()"
   ]
  },
  {
   "cell_type": "code",
   "execution_count": 383,
   "metadata": {},
   "outputs": [],
   "source": [
    "columns = [' Protective-serv',' Priv-house-serv',' Armed-Forces']\n",
    "df[' occupation'].replace(columns, ['Others' for i in range(3)], inplace=True)"
   ]
  },
  {
   "cell_type": "code",
   "execution_count": 387,
   "metadata": {},
   "outputs": [
    {
     "data": {
      "image/png": "[encoded data removed]",
      "text/plain": [
       "<Figure size 432x288 with 1 Axes>"
      ]
     },
     "metadata": {
      "needs_background": "light"
     },
     "output_type": "display_data"
    }
   ],
   "source": [
    "df[' occupation'].value_counts().plot(kind='barh')\n",
    "plt.gca().invert_yaxis()\n",
    "plt.show()"
   ]
  },
  {
   "cell_type": "code",
   "execution_count": 388,
   "metadata": {},
   "outputs": [
    {
     "data": {
      "text/plain": [
       " Male      20779\n",
       " Female     9925\n",
       "Name:  sex, dtype: int64"
      ]
     },
     "execution_count": 388,
     "metadata": {},
     "output_type": "execute_result"
    }
   ],
   "source": [
    "df[' sex'].value_counts()"
   ]
  },
  {
   "cell_type": "markdown",
   "metadata": {},
   "source": [
    "# Ready for one Hot Encoding "
   ]
  },
  {
   "cell_type": "code",
   "execution_count": 389,
   "metadata": {},
   "outputs": [
    {
     "data": {
      "text/html": [
       "<div>\n",
       "<style scoped>\n",
       "    .dataframe tbody tr th:only-of-type {\n",
       "        vertical-align: middle;\n",
       "    }\n",
       "\n",
       "    .dataframe tbody tr th {\n",
       "        vertical-align: top;\n",
       "    }\n",
       "\n",
       "    .dataframe thead th {\n",
       "        text-align: right;\n",
       "    }\n",
       "</style>\n",
       "<table border=\"1\" class=\"dataframe\">\n",
       "  <thead>\n",
       "    <tr style=\"text-align: right;\">\n",
       "      <th></th>\n",
       "      <th>age</th>\n",
       "      <th>workclass</th>\n",
       "      <th>fnlwgt</th>\n",
       "      <th>education</th>\n",
       "      <th>education-num</th>\n",
       "      <th>occupation</th>\n",
       "      <th>relationship</th>\n",
       "      <th>sex</th>\n",
       "      <th>hours-per-week</th>\n",
       "      <th>native-country</th>\n",
       "      <th>income</th>\n",
       "    </tr>\n",
       "  </thead>\n",
       "  <tbody>\n",
       "    <tr>\n",
       "      <td>0</td>\n",
       "      <td>0.301370</td>\n",
       "      <td>State-gov</td>\n",
       "      <td>0.043338</td>\n",
       "      <td>Bachelors</td>\n",
       "      <td>0.800000</td>\n",
       "      <td>Adm-clerical</td>\n",
       "      <td>Not-in-family</td>\n",
       "      <td>Male</td>\n",
       "      <td>0.397959</td>\n",
       "      <td>United-States</td>\n",
       "      <td>&lt;=50K</td>\n",
       "    </tr>\n",
       "    <tr>\n",
       "      <td>1</td>\n",
       "      <td>0.452055</td>\n",
       "      <td>Self-emp-not-inc</td>\n",
       "      <td>0.047277</td>\n",
       "      <td>Bachelors</td>\n",
       "      <td>0.800000</td>\n",
       "      <td>Exec-managerial</td>\n",
       "      <td>Married</td>\n",
       "      <td>Male</td>\n",
       "      <td>0.122449</td>\n",
       "      <td>United-States</td>\n",
       "      <td>&lt;=50K</td>\n",
       "    </tr>\n",
       "    <tr>\n",
       "      <td>2</td>\n",
       "      <td>0.287671</td>\n",
       "      <td>Private</td>\n",
       "      <td>0.137244</td>\n",
       "      <td>HS-grad</td>\n",
       "      <td>0.533333</td>\n",
       "      <td>Handlers-cleaners</td>\n",
       "      <td>Not-in-family</td>\n",
       "      <td>Male</td>\n",
       "      <td>0.397959</td>\n",
       "      <td>United-States</td>\n",
       "      <td>&lt;=50K</td>\n",
       "    </tr>\n",
       "    <tr>\n",
       "      <td>3</td>\n",
       "      <td>0.493151</td>\n",
       "      <td>Private</td>\n",
       "      <td>0.150212</td>\n",
       "      <td>High_School</td>\n",
       "      <td>0.400000</td>\n",
       "      <td>Handlers-cleaners</td>\n",
       "      <td>Married</td>\n",
       "      <td>Male</td>\n",
       "      <td>0.397959</td>\n",
       "      <td>United-States</td>\n",
       "      <td>&lt;=50K</td>\n",
       "    </tr>\n",
       "    <tr>\n",
       "      <td>4</td>\n",
       "      <td>0.150685</td>\n",
       "      <td>Private</td>\n",
       "      <td>0.220703</td>\n",
       "      <td>Bachelors</td>\n",
       "      <td>0.800000</td>\n",
       "      <td>Prof-specialty</td>\n",
       "      <td>Married</td>\n",
       "      <td>Female</td>\n",
       "      <td>0.397959</td>\n",
       "      <td>Others</td>\n",
       "      <td>&lt;=50K</td>\n",
       "    </tr>\n",
       "  </tbody>\n",
       "</table>\n",
       "</div>"
      ],
      "text/plain": [
       "        age          workclass    fnlwgt    education   education-num  \\\n",
       "0  0.301370          State-gov  0.043338    Bachelors        0.800000   \n",
       "1  0.452055   Self-emp-not-inc  0.047277    Bachelors        0.800000   \n",
       "2  0.287671            Private  0.137244      HS-grad        0.533333   \n",
       "3  0.493151            Private  0.150212  High_School        0.400000   \n",
       "4  0.150685            Private  0.220703    Bachelors        0.800000   \n",
       "\n",
       "           occupation    relationship      sex   hours-per-week  \\\n",
       "0        Adm-clerical   Not-in-family     Male         0.397959   \n",
       "1     Exec-managerial         Married     Male         0.122449   \n",
       "2   Handlers-cleaners   Not-in-family     Male         0.397959   \n",
       "3   Handlers-cleaners         Married     Male         0.397959   \n",
       "4      Prof-specialty         Married   Female         0.397959   \n",
       "\n",
       "   native-country  income  \n",
       "0   United-States   <=50K  \n",
       "1   United-States   <=50K  \n",
       "2   United-States   <=50K  \n",
       "3   United-States   <=50K  \n",
       "4          Others   <=50K  "
      ]
     },
     "execution_count": 389,
     "metadata": {},
     "output_type": "execute_result"
    }
   ],
   "source": [
    "df.head()"
   ]
  },
  {
   "cell_type": "code",
   "execution_count": 390,
   "metadata": {},
   "outputs": [
    {
     "data": {
      "text/html": [
       "<div>\n",
       "<style scoped>\n",
       "    .dataframe tbody tr th:only-of-type {\n",
       "        vertical-align: middle;\n",
       "    }\n",
       "\n",
       "    .dataframe tbody tr th {\n",
       "        vertical-align: top;\n",
       "    }\n",
       "\n",
       "    .dataframe thead th {\n",
       "        text-align: right;\n",
       "    }\n",
       "</style>\n",
       "<table border=\"1\" class=\"dataframe\">\n",
       "  <thead>\n",
       "    <tr style=\"text-align: right;\">\n",
       "      <th></th>\n",
       "      <th>workclass</th>\n",
       "      <th>education</th>\n",
       "      <th>occupation</th>\n",
       "      <th>relationship</th>\n",
       "      <th>sex</th>\n",
       "      <th>native-country</th>\n",
       "    </tr>\n",
       "  </thead>\n",
       "  <tbody>\n",
       "    <tr>\n",
       "      <td>0</td>\n",
       "      <td>State-gov</td>\n",
       "      <td>Bachelors</td>\n",
       "      <td>Adm-clerical</td>\n",
       "      <td>Not-in-family</td>\n",
       "      <td>Male</td>\n",
       "      <td>United-States</td>\n",
       "    </tr>\n",
       "    <tr>\n",
       "      <td>1</td>\n",
       "      <td>Self-emp-not-inc</td>\n",
       "      <td>Bachelors</td>\n",
       "      <td>Exec-managerial</td>\n",
       "      <td>Married</td>\n",
       "      <td>Male</td>\n",
       "      <td>United-States</td>\n",
       "    </tr>\n",
       "    <tr>\n",
       "      <td>2</td>\n",
       "      <td>Private</td>\n",
       "      <td>HS-grad</td>\n",
       "      <td>Handlers-cleaners</td>\n",
       "      <td>Not-in-family</td>\n",
       "      <td>Male</td>\n",
       "      <td>United-States</td>\n",
       "    </tr>\n",
       "    <tr>\n",
       "      <td>3</td>\n",
       "      <td>Private</td>\n",
       "      <td>High_School</td>\n",
       "      <td>Handlers-cleaners</td>\n",
       "      <td>Married</td>\n",
       "      <td>Male</td>\n",
       "      <td>United-States</td>\n",
       "    </tr>\n",
       "    <tr>\n",
       "      <td>4</td>\n",
       "      <td>Private</td>\n",
       "      <td>Bachelors</td>\n",
       "      <td>Prof-specialty</td>\n",
       "      <td>Married</td>\n",
       "      <td>Female</td>\n",
       "      <td>Others</td>\n",
       "    </tr>\n",
       "  </tbody>\n",
       "</table>\n",
       "</div>"
      ],
      "text/plain": [
       "           workclass    education          occupation    relationship  \\\n",
       "0          State-gov    Bachelors        Adm-clerical   Not-in-family   \n",
       "1   Self-emp-not-inc    Bachelors     Exec-managerial         Married   \n",
       "2            Private      HS-grad   Handlers-cleaners   Not-in-family   \n",
       "3            Private  High_School   Handlers-cleaners         Married   \n",
       "4            Private    Bachelors      Prof-specialty         Married   \n",
       "\n",
       "       sex  native-country  \n",
       "0     Male   United-States  \n",
       "1     Male   United-States  \n",
       "2     Male   United-States  \n",
       "3     Male   United-States  \n",
       "4   Female          Others  "
      ]
     },
     "execution_count": 390,
     "metadata": {},
     "output_type": "execute_result"
    }
   ],
   "source": [
    "cols_to_encode = [' workclass', ' education', ' occupation', ' relationship', ' sex', ' native-country']\n",
    "df[cols_to_encode].head()"
   ]
  },
  {
   "cell_type": "code",
   "execution_count": 392,
   "metadata": {},
   "outputs": [
    {
     "data": {
      "text/plain": [
       "Index([' workclass_ Federal-gov', ' workclass_ Local-gov',\n",
       "       ' workclass_ Private', ' workclass_ Self-emp-inc',\n",
       "       ' workclass_ Self-emp-not-inc', ' workclass_ State-gov',\n",
       "       ' education_ Assoc-acdm', ' education_ Assoc-voc',\n",
       "       ' education_ Bachelors', ' education_ Doctorate', ' education_ HS-grad',\n",
       "       ' education_ Masters', ' education_ Prof-school',\n",
       "       ' education_ Some-college', ' education_Elementary',\n",
       "       ' education_High_School', ' occupation_ Adm-clerical',\n",
       "       ' occupation_ Craft-repair', ' occupation_ Exec-managerial',\n",
       "       ' occupation_ Farming-fishing', ' occupation_ Handlers-cleaners',\n",
       "       ' occupation_ Machine-op-inspct', ' occupation_ Other-service',\n",
       "       ' occupation_ Prof-specialty', ' occupation_ Sales',\n",
       "       ' occupation_ Tech-support', ' occupation_ Transport-moving',\n",
       "       ' occupation_Others', ' relationship_ Not-in-family',\n",
       "       ' relationship_ Other-relative', ' relationship_ Own-child',\n",
       "       ' relationship_ Unmarried', ' relationship_Married', ' sex_ Female',\n",
       "       ' sex_ Male', ' native-country_ Canada', ' native-country_ El-Salvador',\n",
       "       ' native-country_ Germany', ' native-country_ India',\n",
       "       ' native-country_ Mexico', ' native-country_ Philippines',\n",
       "       ' native-country_ Puerto-Rico', ' native-country_ United-States',\n",
       "       ' native-country_Others'],\n",
       "      dtype='object')"
      ]
     },
     "execution_count": 392,
     "metadata": {},
     "output_type": "execute_result"
    }
   ],
   "source": [
    "pd.get_dummies(data=df[cols_to_encode]).columns"
   ]
  },
  {
   "cell_type": "code",
   "execution_count": 394,
   "metadata": {
    "scrolled": true
   },
   "outputs": [
    {
     "data": {
      "text/plain": [
       "Index([' workclass_ Local-gov', ' workclass_ Private',\n",
       "       ' workclass_ Self-emp-inc', ' workclass_ Self-emp-not-inc',\n",
       "       ' workclass_ State-gov', ' education_ Assoc-voc',\n",
       "       ' education_ Bachelors', ' education_ Doctorate', ' education_ HS-grad',\n",
       "       ' education_ Masters', ' education_ Prof-school',\n",
       "       ' education_ Some-college', ' education_Elementary',\n",
       "       ' education_High_School', ' occupation_ Craft-repair',\n",
       "       ' occupation_ Exec-managerial', ' occupation_ Farming-fishing',\n",
       "       ' occupation_ Handlers-cleaners', ' occupation_ Machine-op-inspct',\n",
       "       ' occupation_ Other-service', ' occupation_ Prof-specialty',\n",
       "       ' occupation_ Sales', ' occupation_ Tech-support',\n",
       "       ' occupation_ Transport-moving', ' occupation_Others',\n",
       "       ' relationship_ Other-relative', ' relationship_ Own-child',\n",
       "       ' relationship_ Unmarried', ' relationship_Married', ' sex_ Male',\n",
       "       ' native-country_ El-Salvador', ' native-country_ Germany',\n",
       "       ' native-country_ India', ' native-country_ Mexico',\n",
       "       ' native-country_ Philippines', ' native-country_ Puerto-Rico',\n",
       "       ' native-country_ United-States', ' native-country_Others'],\n",
       "      dtype='object')"
      ]
     },
     "execution_count": 394,
     "metadata": {},
     "output_type": "execute_result"
    }
   ],
   "source": [
    "pd.get_dummies(data=df[cols_to_encode], drop_first=True).columns"
   ]
  },
  {
   "cell_type": "code",
   "execution_count": 400,
   "metadata": {},
   "outputs": [],
   "source": [
    "encoded_cols = pd.get_dummies(data=df[cols_to_encode], drop_first=True)"
   ]
  },
  {
   "cell_type": "code",
   "execution_count": 401,
   "metadata": {},
   "outputs": [
    {
     "data": {
      "text/plain": [
       "(30704, 38)"
      ]
     },
     "execution_count": 401,
     "metadata": {},
     "output_type": "execute_result"
    }
   ],
   "source": [
    "encoded_cols.shape"
   ]
  },
  {
   "cell_type": "code",
   "execution_count": 396,
   "metadata": {
    "scrolled": false
   },
   "outputs": [
    {
     "data": {
      "text/plain": [
       "(30704, 11)"
      ]
     },
     "execution_count": 396,
     "metadata": {},
     "output_type": "execute_result"
    }
   ],
   "source": [
    "df.shape"
   ]
  },
  {
   "cell_type": "code",
   "execution_count": 405,
   "metadata": {},
   "outputs": [],
   "source": [
    "new_df = pd.concat([df.drop(cols_to_encode, axis=1),encoded_cols], axis=1)"
   ]
  },
  {
   "cell_type": "code",
   "execution_count": 406,
   "metadata": {},
   "outputs": [
    {
     "data": {
      "text/plain": [
       "(30704, 43)"
      ]
     },
     "execution_count": 406,
     "metadata": {},
     "output_type": "execute_result"
    }
   ],
   "source": [
    "new_df.shape"
   ]
  },
  {
   "cell_type": "code",
   "execution_count": 415,
   "metadata": {},
   "outputs": [],
   "source": [
    "new_df[' income'].replace([' <=50K', ' >50K'],[0,1], inplace=True)"
   ]
  },
  {
   "cell_type": "code",
   "execution_count": 416,
   "metadata": {},
   "outputs": [
    {
     "data": {
      "text/html": [
       "<div>\n",
       "<style scoped>\n",
       "    .dataframe tbody tr th:only-of-type {\n",
       "        vertical-align: middle;\n",
       "    }\n",
       "\n",
       "    .dataframe tbody tr th {\n",
       "        vertical-align: top;\n",
       "    }\n",
       "\n",
       "    .dataframe thead th {\n",
       "        text-align: right;\n",
       "    }\n",
       "</style>\n",
       "<table border=\"1\" class=\"dataframe\">\n",
       "  <thead>\n",
       "    <tr style=\"text-align: right;\">\n",
       "      <th></th>\n",
       "      <th>age</th>\n",
       "      <th>fnlwgt</th>\n",
       "      <th>education-num</th>\n",
       "      <th>hours-per-week</th>\n",
       "      <th>income</th>\n",
       "      <th>workclass_ Local-gov</th>\n",
       "      <th>workclass_ Private</th>\n",
       "      <th>workclass_ Self-emp-inc</th>\n",
       "      <th>workclass_ Self-emp-not-inc</th>\n",
       "      <th>workclass_ State-gov</th>\n",
       "      <th>...</th>\n",
       "      <th>relationship_Married</th>\n",
       "      <th>sex_ Male</th>\n",
       "      <th>native-country_ El-Salvador</th>\n",
       "      <th>native-country_ Germany</th>\n",
       "      <th>native-country_ India</th>\n",
       "      <th>native-country_ Mexico</th>\n",
       "      <th>native-country_ Philippines</th>\n",
       "      <th>native-country_ Puerto-Rico</th>\n",
       "      <th>native-country_ United-States</th>\n",
       "      <th>native-country_Others</th>\n",
       "    </tr>\n",
       "  </thead>\n",
       "  <tbody>\n",
       "    <tr>\n",
       "      <td>23586</td>\n",
       "      <td>0.383562</td>\n",
       "      <td>0.105045</td>\n",
       "      <td>0.533333</td>\n",
       "      <td>0.397959</td>\n",
       "      <td>0</td>\n",
       "      <td>0</td>\n",
       "      <td>1</td>\n",
       "      <td>0</td>\n",
       "      <td>0</td>\n",
       "      <td>0</td>\n",
       "      <td>...</td>\n",
       "      <td>1</td>\n",
       "      <td>1</td>\n",
       "      <td>0</td>\n",
       "      <td>0</td>\n",
       "      <td>0</td>\n",
       "      <td>0</td>\n",
       "      <td>0</td>\n",
       "      <td>0</td>\n",
       "      <td>1</td>\n",
       "      <td>0</td>\n",
       "    </tr>\n",
       "    <tr>\n",
       "      <td>24959</td>\n",
       "      <td>0.356164</td>\n",
       "      <td>0.062659</td>\n",
       "      <td>0.533333</td>\n",
       "      <td>0.346939</td>\n",
       "      <td>1</td>\n",
       "      <td>0</td>\n",
       "      <td>1</td>\n",
       "      <td>0</td>\n",
       "      <td>0</td>\n",
       "      <td>0</td>\n",
       "      <td>...</td>\n",
       "      <td>1</td>\n",
       "      <td>0</td>\n",
       "      <td>0</td>\n",
       "      <td>0</td>\n",
       "      <td>0</td>\n",
       "      <td>0</td>\n",
       "      <td>0</td>\n",
       "      <td>0</td>\n",
       "      <td>1</td>\n",
       "      <td>0</td>\n",
       "    </tr>\n",
       "    <tr>\n",
       "      <td>16186</td>\n",
       "      <td>0.027397</td>\n",
       "      <td>0.077461</td>\n",
       "      <td>0.533333</td>\n",
       "      <td>0.295918</td>\n",
       "      <td>0</td>\n",
       "      <td>0</td>\n",
       "      <td>1</td>\n",
       "      <td>0</td>\n",
       "      <td>0</td>\n",
       "      <td>0</td>\n",
       "      <td>...</td>\n",
       "      <td>0</td>\n",
       "      <td>1</td>\n",
       "      <td>0</td>\n",
       "      <td>0</td>\n",
       "      <td>0</td>\n",
       "      <td>0</td>\n",
       "      <td>0</td>\n",
       "      <td>0</td>\n",
       "      <td>1</td>\n",
       "      <td>0</td>\n",
       "    </tr>\n",
       "    <tr>\n",
       "      <td>18644</td>\n",
       "      <td>0.082192</td>\n",
       "      <td>0.102045</td>\n",
       "      <td>0.600000</td>\n",
       "      <td>0.397959</td>\n",
       "      <td>0</td>\n",
       "      <td>0</td>\n",
       "      <td>0</td>\n",
       "      <td>0</td>\n",
       "      <td>0</td>\n",
       "      <td>0</td>\n",
       "      <td>...</td>\n",
       "      <td>0</td>\n",
       "      <td>1</td>\n",
       "      <td>0</td>\n",
       "      <td>0</td>\n",
       "      <td>0</td>\n",
       "      <td>0</td>\n",
       "      <td>0</td>\n",
       "      <td>0</td>\n",
       "      <td>1</td>\n",
       "      <td>0</td>\n",
       "    </tr>\n",
       "    <tr>\n",
       "      <td>30497</td>\n",
       "      <td>0.301370</td>\n",
       "      <td>0.161762</td>\n",
       "      <td>0.333333</td>\n",
       "      <td>0.142857</td>\n",
       "      <td>0</td>\n",
       "      <td>0</td>\n",
       "      <td>0</td>\n",
       "      <td>0</td>\n",
       "      <td>1</td>\n",
       "      <td>0</td>\n",
       "      <td>...</td>\n",
       "      <td>0</td>\n",
       "      <td>0</td>\n",
       "      <td>0</td>\n",
       "      <td>0</td>\n",
       "      <td>0</td>\n",
       "      <td>0</td>\n",
       "      <td>0</td>\n",
       "      <td>0</td>\n",
       "      <td>1</td>\n",
       "      <td>0</td>\n",
       "    </tr>\n",
       "    <tr>\n",
       "      <td>29733</td>\n",
       "      <td>0.219178</td>\n",
       "      <td>0.030806</td>\n",
       "      <td>0.800000</td>\n",
       "      <td>0.448980</td>\n",
       "      <td>1</td>\n",
       "      <td>0</td>\n",
       "      <td>1</td>\n",
       "      <td>0</td>\n",
       "      <td>0</td>\n",
       "      <td>0</td>\n",
       "      <td>...</td>\n",
       "      <td>1</td>\n",
       "      <td>1</td>\n",
       "      <td>0</td>\n",
       "      <td>0</td>\n",
       "      <td>0</td>\n",
       "      <td>0</td>\n",
       "      <td>0</td>\n",
       "      <td>0</td>\n",
       "      <td>1</td>\n",
       "      <td>0</td>\n",
       "    </tr>\n",
       "    <tr>\n",
       "      <td>29273</td>\n",
       "      <td>0.575342</td>\n",
       "      <td>0.045779</td>\n",
       "      <td>0.600000</td>\n",
       "      <td>0.806122</td>\n",
       "      <td>1</td>\n",
       "      <td>0</td>\n",
       "      <td>0</td>\n",
       "      <td>0</td>\n",
       "      <td>1</td>\n",
       "      <td>0</td>\n",
       "      <td>...</td>\n",
       "      <td>1</td>\n",
       "      <td>0</td>\n",
       "      <td>0</td>\n",
       "      <td>0</td>\n",
       "      <td>0</td>\n",
       "      <td>0</td>\n",
       "      <td>0</td>\n",
       "      <td>0</td>\n",
       "      <td>1</td>\n",
       "      <td>0</td>\n",
       "    </tr>\n",
       "    <tr>\n",
       "      <td>5364</td>\n",
       "      <td>0.356164</td>\n",
       "      <td>0.119839</td>\n",
       "      <td>0.533333</td>\n",
       "      <td>0.397959</td>\n",
       "      <td>0</td>\n",
       "      <td>0</td>\n",
       "      <td>0</td>\n",
       "      <td>0</td>\n",
       "      <td>1</td>\n",
       "      <td>0</td>\n",
       "      <td>...</td>\n",
       "      <td>1</td>\n",
       "      <td>1</td>\n",
       "      <td>0</td>\n",
       "      <td>0</td>\n",
       "      <td>0</td>\n",
       "      <td>0</td>\n",
       "      <td>0</td>\n",
       "      <td>0</td>\n",
       "      <td>1</td>\n",
       "      <td>0</td>\n",
       "    </tr>\n",
       "    <tr>\n",
       "      <td>8426</td>\n",
       "      <td>0.287671</td>\n",
       "      <td>0.108910</td>\n",
       "      <td>0.533333</td>\n",
       "      <td>0.448980</td>\n",
       "      <td>0</td>\n",
       "      <td>0</td>\n",
       "      <td>1</td>\n",
       "      <td>0</td>\n",
       "      <td>0</td>\n",
       "      <td>0</td>\n",
       "      <td>...</td>\n",
       "      <td>1</td>\n",
       "      <td>1</td>\n",
       "      <td>0</td>\n",
       "      <td>0</td>\n",
       "      <td>0</td>\n",
       "      <td>0</td>\n",
       "      <td>0</td>\n",
       "      <td>0</td>\n",
       "      <td>1</td>\n",
       "      <td>0</td>\n",
       "    </tr>\n",
       "    <tr>\n",
       "      <td>20358</td>\n",
       "      <td>0.410959</td>\n",
       "      <td>0.132870</td>\n",
       "      <td>0.266667</td>\n",
       "      <td>0.561224</td>\n",
       "      <td>0</td>\n",
       "      <td>0</td>\n",
       "      <td>1</td>\n",
       "      <td>0</td>\n",
       "      <td>0</td>\n",
       "      <td>0</td>\n",
       "      <td>...</td>\n",
       "      <td>1</td>\n",
       "      <td>1</td>\n",
       "      <td>0</td>\n",
       "      <td>0</td>\n",
       "      <td>0</td>\n",
       "      <td>0</td>\n",
       "      <td>0</td>\n",
       "      <td>0</td>\n",
       "      <td>0</td>\n",
       "      <td>1</td>\n",
       "    </tr>\n",
       "  </tbody>\n",
       "</table>\n",
       "<p>10 rows × 43 columns</p>\n",
       "</div>"
      ],
      "text/plain": [
       "            age    fnlwgt   education-num   hours-per-week   income  \\\n",
       "23586  0.383562  0.105045        0.533333         0.397959        0   \n",
       "24959  0.356164  0.062659        0.533333         0.346939        1   \n",
       "16186  0.027397  0.077461        0.533333         0.295918        0   \n",
       "18644  0.082192  0.102045        0.600000         0.397959        0   \n",
       "30497  0.301370  0.161762        0.333333         0.142857        0   \n",
       "29733  0.219178  0.030806        0.800000         0.448980        1   \n",
       "29273  0.575342  0.045779        0.600000         0.806122        1   \n",
       "5364   0.356164  0.119839        0.533333         0.397959        0   \n",
       "8426   0.287671  0.108910        0.533333         0.448980        0   \n",
       "20358  0.410959  0.132870        0.266667         0.561224        0   \n",
       "\n",
       "        workclass_ Local-gov   workclass_ Private   workclass_ Self-emp-inc  \\\n",
       "23586                      0                    1                         0   \n",
       "24959                      0                    1                         0   \n",
       "16186                      0                    1                         0   \n",
       "18644                      0                    0                         0   \n",
       "30497                      0                    0                         0   \n",
       "29733                      0                    1                         0   \n",
       "29273                      0                    0                         0   \n",
       "5364                       0                    0                         0   \n",
       "8426                       0                    1                         0   \n",
       "20358                      0                    1                         0   \n",
       "\n",
       "        workclass_ Self-emp-not-inc   workclass_ State-gov  ...  \\\n",
       "23586                             0                      0  ...   \n",
       "24959                             0                      0  ...   \n",
       "16186                             0                      0  ...   \n",
       "18644                             0                      0  ...   \n",
       "30497                             1                      0  ...   \n",
       "29733                             0                      0  ...   \n",
       "29273                             1                      0  ...   \n",
       "5364                              1                      0  ...   \n",
       "8426                              0                      0  ...   \n",
       "20358                             0                      0  ...   \n",
       "\n",
       "        relationship_Married   sex_ Male   native-country_ El-Salvador  \\\n",
       "23586                      1           1                             0   \n",
       "24959                      1           0                             0   \n",
       "16186                      0           1                             0   \n",
       "18644                      0           1                             0   \n",
       "30497                      0           0                             0   \n",
       "29733                      1           1                             0   \n",
       "29273                      1           0                             0   \n",
       "5364                       1           1                             0   \n",
       "8426                       1           1                             0   \n",
       "20358                      1           1                             0   \n",
       "\n",
       "        native-country_ Germany   native-country_ India  \\\n",
       "23586                         0                       0   \n",
       "24959                         0                       0   \n",
       "16186                         0                       0   \n",
       "18644                         0                       0   \n",
       "30497                         0                       0   \n",
       "29733                         0                       0   \n",
       "29273                         0                       0   \n",
       "5364                          0                       0   \n",
       "8426                          0                       0   \n",
       "20358                         0                       0   \n",
       "\n",
       "        native-country_ Mexico   native-country_ Philippines  \\\n",
       "23586                        0                             0   \n",
       "24959                        0                             0   \n",
       "16186                        0                             0   \n",
       "18644                        0                             0   \n",
       "30497                        0                             0   \n",
       "29733                        0                             0   \n",
       "29273                        0                             0   \n",
       "5364                         0                             0   \n",
       "8426                         0                             0   \n",
       "20358                        0                             0   \n",
       "\n",
       "        native-country_ Puerto-Rico   native-country_ United-States  \\\n",
       "23586                             0                               1   \n",
       "24959                             0                               1   \n",
       "16186                             0                               1   \n",
       "18644                             0                               1   \n",
       "30497                             0                               1   \n",
       "29733                             0                               1   \n",
       "29273                             0                               1   \n",
       "5364                              0                               1   \n",
       "8426                              0                               1   \n",
       "20358                             0                               0   \n",
       "\n",
       "        native-country_Others  \n",
       "23586                       0  \n",
       "24959                       0  \n",
       "16186                       0  \n",
       "18644                       0  \n",
       "30497                       0  \n",
       "29733                       0  \n",
       "29273                       0  \n",
       "5364                        0  \n",
       "8426                        0  \n",
       "20358                       1  \n",
       "\n",
       "[10 rows x 43 columns]"
      ]
     },
     "execution_count": 416,
     "metadata": {},
     "output_type": "execute_result"
    }
   ],
   "source": [
    "new_df.sample(10)"
   ]
  },
  {
   "cell_type": "code",
   "execution_count": 418,
   "metadata": {},
   "outputs": [],
   "source": [
    "new_df.to_csv('cleaned-income-classification.csv',index = )"
   ]
  }
 ],
 "metadata": {
  "kernelspec": {
   "display_name": "Python 3",
   "language": "python",
   "name": "python3"
  },
  "language_info": {
   "codemirror_mode": {
    "name": "ipython",
    "version": 3
   },
   "file_extension": ".py",
   "mimetype": "text/x-python",
   "name": "python",
   "nbconvert_exporter": "python",
   "pygments_lexer": "ipython3",
   "version": "3.7.3"
  }
 },
 "nbformat": 4,
 "nbformat_minor": 2
}
